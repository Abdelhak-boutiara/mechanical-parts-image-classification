{
  "nbformat": 4,
  "nbformat_minor": 0,
  "metadata": {
    "colab": {
      "provenance": []
    },
    "kernelspec": {
      "name": "python3",
      "display_name": "Python 3"
    },
    "language_info": {
      "name": "python"
    }
  },
  "cells": [
    {
      "cell_type": "code",
      "execution_count": 58,
      "metadata": {
        "id": "zJz2uNtUZDjD"
      },
      "outputs": [],
      "source": [
        "import os\n",
        "import cv2 as cv\n",
        "import numpy as np\n",
        "import pandas as pd\n",
        "import tensorflow as tf\n",
        "import matplotlib.pyplot as plt\n",
        "from tensorflow.keras.layers import Dense\n",
        "from skimage.feature import hog\n",
        "from sklearn.model_selection import train_test_split\n",
        "from sklearn import metrics"
      ]
    },
    {
      "cell_type": "code",
      "source": [
        "#fonction pour télécharger toutes les images d'un dossier et les mettre dans une liste\n",
        "def load_images_from_folder(folder):\n",
        "    images = []\n",
        "    for filename in os.listdir(folder):\n",
        "        img = cv.imread(os.path.join(folder,filename))\n",
        "        if img is not None:\n",
        "            img = cv.cvtColor(img,cv.COLOR_BGR2RGB)\n",
        "            images.append(img)\n",
        "    return images\n",
        "\n",
        "images_bolts = load_images_from_folder(\"/content/drive/MyDrive/ME datasets/Mechanical parts image recognition/images of mechanical parts/bolt\")\n",
        "images_pin = load_images_from_folder(\"/content/drive/MyDrive/ME datasets/Mechanical parts image recognition/images of mechanical parts/locatingpin\")\n",
        "images_nut = load_images_from_folder(\"/content/drive/MyDrive/ME datasets/Mechanical parts image recognition/images of mechanical parts/nut\")\n",
        "images_washer = load_images_from_folder(\"/content/drive/MyDrive/ME datasets/Mechanical parts image recognition/images of mechanical parts/washer\")"
      ],
      "metadata": {
        "id": "SYHP9abOheXH"
      },
      "execution_count": 5,
      "outputs": []
    },
    {
      "cell_type": "code",
      "source": [
        "#Appliquer un filtre aux images\n",
        "for (i,j,k,l) in zip(range(len(images_bolts)),range(len(images_pin)),range(len(images_nut)),range(len(images_washer))) :\n",
        "    images_bolts[i] = cv.medianBlur(images_bolts[i],3)\n",
        "    images_pin[j] = cv.medianBlur(images_pin[j],3)\n",
        "    images_nut[k] = cv.medianBlur(images_nut[k],3)\n",
        "    images_washer[l] = cv.medianBlur(images_washer[l],3)"
      ],
      "metadata": {
        "id": "yp9VO4IviE_k"
      },
      "execution_count": 7,
      "outputs": []
    },
    {
      "cell_type": "code",
      "source": [
        "from google.colab.patches import cv2_imshow\n",
        "cv2_imshow( images_bolts[21])"
      ],
      "metadata": {
        "colab": {
          "base_uri": "https://localhost:8080/",
          "height": 241
        },
        "id": "_pKXusuwkbFd",
        "outputId": "a23b8dc6-b456-4b63-c87c-d0ea6acf8b8b"
      },
      "execution_count": 8,
      "outputs": [
        {
          "output_type": "display_data",
          "data": {
            "text/plain": [
              "<PIL.Image.Image image mode=RGB size=224x224>"
            ],
            "image/png": "[encoded data removed]"
          },
          "metadata": {}
        }
      ]
    },
    {
      "cell_type": "code",
      "source": [
        "#Redimensionnement des images\n",
        "def image_resizer (listimage) :\n",
        "    dim = (112, 112)\n",
        "    for i in range(len(listimage)) :\n",
        "        listimage[i] = cv.resize(listimage[i],dim)\n",
        "image_resizer(images_bolts)\n",
        "image_resizer(images_pin)\n",
        "image_resizer(images_nut)\n",
        "image_resizer(images_washer)"
      ],
      "metadata": {
        "id": "uu68rFmIkiIp"
      },
      "execution_count": 9,
      "outputs": []
    },
    {
      "cell_type": "code",
      "source": [
        "images_bolts[21].shape\n",
        "cv2_imshow( images_bolts[21])"
      ],
      "metadata": {
        "colab": {
          "base_uri": "https://localhost:8080/",
          "height": 129
        },
        "id": "xNzrOguplgTq",
        "outputId": "41ca1590-2e38-4d69-d3ed-f4a1cc8f9b0d"
      },
      "execution_count": 10,
      "outputs": [
        {
          "output_type": "display_data",
          "data": {
            "text/plain": [
              "<PIL.Image.Image image mode=RGB size=112x112>"
            ],
            "image/png": "[encoded data removed]"
          },
          "metadata": {}
        }
      ]
    },
    {
      "cell_type": "code",
      "source": [
        "a=images_bolts[21]\n",
        "a.shape"
      ],
      "metadata": {
        "colab": {
          "base_uri": "https://localhost:8080/"
        },
        "id": "SvWEJE1_x7cf",
        "outputId": "131ab819-b8be-4917-9868-a4b51b5b9191"
      },
      "execution_count": 11,
      "outputs": [
        {
          "output_type": "execute_result",
          "data": {
            "text/plain": [
              "(112, 112, 3)"
            ]
          },
          "metadata": {},
          "execution_count": 11
        }
      ]
    },
    {
      "cell_type": "code",
      "source": [
        "def etiquetage (listimage, etiquette) :\n",
        "    etiq = []\n",
        "    for i in range(len(listimage)) :\n",
        "        etiq.append(etiquette)\n",
        "    return etiq\n",
        "etiq_bolts = etiquetage(images_bolts,0)\n",
        "etiq_pin = etiquetage(images_pin,1)\n",
        "etiq_nut = etiquetage(images_nut,2)\n",
        "etiq_washer = etiquetage(images_washer,3)\n",
        "\n",
        "\n",
        "etiq = etiq_bolts + etiq_pin + etiq_nut + etiq_washer\n"
      ],
      "metadata": {
        "id": "t03t38Fatn_4"
      },
      "execution_count": 12,
      "outputs": []
    },
    {
      "cell_type": "code",
      "source": [
        "# Fonction permettant le calcul du HOG pour une liste d'image\n",
        "def hog_list (listimage) :\n",
        "    features = []\n",
        "    hog_image = []\n",
        "    for i in range(len(listimage)) :\n",
        "        a, b = hog(listimage[i], orientations=9, pixels_per_cell=(8, 8),\n",
        "                \tcells_per_block=(2, 2), visualize=True, multichannel=True)\n",
        "        features.append(a)\n",
        "        hog_image.append(b)\n",
        "    return features,hog_image\n",
        "\n",
        "\n",
        "features_bolts,hog_image_bolts = hog_list(images_bolts)\n",
        "features_pin,hog_image_pin = hog_list(images_pin)\n",
        "features_nut,hog_image_nut = hog_list(images_nut)\n",
        "features_washer,hog_image_washer = hog_list(images_washer)"
      ],
      "metadata": {
        "colab": {
          "base_uri": "https://localhost:8080/"
        },
        "id": "LPWYFlQglkr8",
        "outputId": "c356b5af-b844-4875-c381-6736d8d3a643"
      },
      "execution_count": 14,
      "outputs": [
        {
          "output_type": "stream",
          "name": "stderr",
          "text": [
            "<ipython-input-14-03078607e4f8>:6: FutureWarning: `multichannel` is a deprecated argument name for `hog`. It will be removed in version 1.0. Please use `channel_axis` instead.\n",
            "  a, b = hog(listimage[i], orientations=9, pixels_per_cell=(8, 8),\n"
          ]
        }
      ]
    },
    {
      "cell_type": "code",
      "source": [
        "plt.imshow(hog_image_pin[76])"
      ],
      "metadata": {
        "colab": {
          "base_uri": "https://localhost:8080/",
          "height": 451
        },
        "id": "URrsEYq4UCyA",
        "outputId": "114d7fd1-8e32-496c-9ea2-ce1da19bd8a9"
      },
      "execution_count": 17,
      "outputs": [
        {
          "output_type": "execute_result",
          "data": {
            "text/plain": [
              "<matplotlib.image.AxesImage at 0x7cd0cf175ed0>"
            ]
          },
          "metadata": {},
          "execution_count": 17
        },
        {
          "output_type": "display_data",
          "data": {
            "text/plain": [
              "<Figure size 640x480 with 1 Axes>"
            ],
            "image/png": "[encoded data removed]"
          },
          "metadata": {}
        }
      ]
    },
    {
      "cell_type": "code",
      "source": [
        "features = features_bolts + features_pin + features_nut + features_washer"
      ],
      "metadata": {
        "id": "xUFkv14uTcXz"
      },
      "execution_count": 15,
      "outputs": []
    },
    {
      "cell_type": "code",
      "source": [
        "features = pd.DataFrame(features)\n",
        "etiq = np.array(etiq)"
      ],
      "metadata": {
        "id": "CvrmQulFT0l_"
      },
      "execution_count": 16,
      "outputs": []
    },
    {
      "cell_type": "code",
      "source": [
        "model = tf.keras.Sequential(\n",
        "    [\n",
        "        Dense(6, activation='relu'),\n",
        "        Dense(8, activation='relu'),\n",
        "        Dense(4, activation='softmax')\n",
        "    ]\n",
        ")"
      ],
      "metadata": {
        "id": "pLV4FYvyGG5z"
      },
      "execution_count": 49,
      "outputs": []
    },
    {
      "cell_type": "code",
      "source": [
        "model.compile(optimizer='adam', loss='sparse_categorical_crossentropy', metrics='accuracy')"
      ],
      "metadata": {
        "id": "qLLlzUeWGvKM"
      },
      "execution_count": 50,
      "outputs": []
    },
    {
      "cell_type": "code",
      "source": [
        "x_train, x_test, y_train, y_test = train_test_split(features, etiq, test_size=0.3,random_state=40)"
      ],
      "metadata": {
        "id": "c7Z_4wwQHQFd"
      },
      "execution_count": 52,
      "outputs": []
    },
    {
      "cell_type": "code",
      "source": [
        "x_train.shape"
      ],
      "metadata": {
        "colab": {
          "base_uri": "https://localhost:8080/"
        },
        "id": "gtIfJSmuVXdB",
        "outputId": "c24619dc-acad-4eb0-88a3-7ecf3eeb739b"
      },
      "execution_count": 53,
      "outputs": [
        {
          "output_type": "execute_result",
          "data": {
            "text/plain": [
              "(5280, 6084)"
            ]
          },
          "metadata": {},
          "execution_count": 53
        }
      ]
    },
    {
      "cell_type": "code",
      "source": [
        "model.fit(x_train, y_train, batch_size=50, epochs=10)"
      ],
      "metadata": {
        "colab": {
          "base_uri": "https://localhost:8080/"
        },
        "id": "XALo8828HjDq",
        "outputId": "386d50a4-ff68-4f34-b660-00bd70f31477"
      },
      "execution_count": 54,
      "outputs": [
        {
          "output_type": "stream",
          "name": "stdout",
          "text": [
            "Epoch 1/10\n",
            "106/106 [==============================] - 1s 6ms/step - loss: 0.6733 - accuracy: 0.7568\n",
            "Epoch 2/10\n",
            "106/106 [==============================] - 1s 5ms/step - loss: 0.2551 - accuracy: 0.9205\n",
            "Epoch 3/10\n",
            "106/106 [==============================] - 0s 4ms/step - loss: 0.1723 - accuracy: 0.9523\n",
            "Epoch 4/10\n",
            "106/106 [==============================] - 1s 6ms/step - loss: 0.1276 - accuracy: 0.9659\n",
            "Epoch 5/10\n",
            "106/106 [==============================] - 1s 6ms/step - loss: 0.0952 - accuracy: 0.9744\n",
            "Epoch 6/10\n",
            "106/106 [==============================] - 0s 5ms/step - loss: 0.0710 - accuracy: 0.9841\n",
            "Epoch 7/10\n",
            "106/106 [==============================] - 1s 5ms/step - loss: 0.0517 - accuracy: 0.9886\n",
            "Epoch 8/10\n",
            "106/106 [==============================] - 1s 6ms/step - loss: 0.0394 - accuracy: 0.9934\n",
            "Epoch 9/10\n",
            "106/106 [==============================] - 1s 6ms/step - loss: 0.0294 - accuracy: 0.9953\n",
            "Epoch 10/10\n",
            "106/106 [==============================] - 1s 6ms/step - loss: 0.0221 - accuracy: 0.9979\n"
          ]
        },
        {
          "output_type": "execute_result",
          "data": {
            "text/plain": [
              "<keras.src.callbacks.History at 0x7cd07867a140>"
            ]
          },
          "metadata": {},
          "execution_count": 54
        }
      ]
    },
    {
      "cell_type": "code",
      "source": [
        "model.evaluate(x_test,y_test, batch_size=20)"
      ],
      "metadata": {
        "colab": {
          "base_uri": "https://localhost:8080/"
        },
        "id": "MYT1T6YiH0r6",
        "outputId": "6e50b4ff-7ca5-4e55-d444-070fb5b2864d"
      },
      "execution_count": 55,
      "outputs": [
        {
          "output_type": "stream",
          "name": "stdout",
          "text": [
            "114/114 [==============================] - 0s 2ms/step - loss: 0.0832 - accuracy: 0.9695\n"
          ]
        },
        {
          "output_type": "execute_result",
          "data": {
            "text/plain": [
              "[0.08317600935697556, 0.9695229530334473]"
            ]
          },
          "metadata": {},
          "execution_count": 55
        }
      ]
    },
    {
      "cell_type": "code",
      "source": [],
      "metadata": {
        "id": "IdZNqRhagV8-"
      },
      "execution_count": null,
      "outputs": []
    }
  ]
}